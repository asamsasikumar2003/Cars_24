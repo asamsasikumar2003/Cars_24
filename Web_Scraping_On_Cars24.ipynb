{
 "cells": [
  {
   "cell_type": "markdown",
   "id": "6f74765b-cc9e-49c1-9784-7f17d4e717c9",
   "metadata": {},
   "source": [
    "<center><h1>WEB SCRAPING</h1></center>"
   ]
  },
  {
   "cell_type": "markdown",
   "id": "7ff74260-1444-46a3-9796-d3fcb09319d0",
   "metadata": {},
   "source": [
    "### **Importing All Necessary libraries**"
   ]
  },
  {
   "cell_type": "code",
   "execution_count": 37,
   "id": "941d0905-d2fc-47cf-b2e5-fc0ecc0a596e",
   "metadata": {},
   "outputs": [],
   "source": [
    "import os\n",
    "import numpy as np\n",
    "import pandas as pd\n",
    "import matplotlib.pyplot as plt\n",
    "import seaborn as sns\n",
    "import plotly.express as px\n",
    "from bs4 import BeautifulSoup\n",
    "import re\n",
    "\n",
    "from IPython.core.interactiveshell import InteractiveShell\n",
    "InteractiveShell.ast_node_interactivity = 'all'\n",
    "\n",
    "import warnings\n",
    "warnings.filterwarnings('ignore')"
   ]
  },
  {
   "cell_type": "code",
   "execution_count": 38,
   "id": "0b253165-5240-40cc-acb6-3cd30aa72228",
   "metadata": {},
   "outputs": [],
   "source": [
    "headers = {\n",
    "    'User-Agent': 'Mozilla/5.0 (Windows NT 10.0; Win64; x64) AppleWebKit/537.36 (KHTML, like Gecko) Chrome/101.0.4951.64 Safari/537.36',\n",
    "    'Accept': 'text/html,application/xhtml+xml,application/xml;q=0.9,image/avif,image/webp,image/apng,/;q=0.8,application/signed-exchange;v=b3;q=0.9',\n",
    "    'Accept-Language': 'en-US,en;q=0.9',\n",
    "    'Accept-Encoding': 'gzip, deflate, br',\n",
    "    'Referer': 'https://www.justdial.com/',\n",
    "    'Connection': 'keep-alive'\n",
    "}"
   ]
  },
  {
   "cell_type": "code",
   "execution_count": 39,
   "id": "33aa99ad-f315-4efe-93e6-85a938ac5ac4",
   "metadata": {},
   "outputs": [],
   "source": [
    "list_of_cities = [2,4709,2378,3686,1692,5,5732,2423,134,132,290,2130,777,6356,2713,6105,2920,8184,1605,769,666,33,1606,1674,136]\n",
    "make_year = []\n",
    "owner = []\n",
    "brand = []\n",
    "model = []\n",
    "price = []\n",
    "loc = []\n",
    "distance = []\n",
    "emi = []\n",
    "original_price = []\n",
    "fuel = []\n",
    "for i in list_of_cities:\n",
    "    url = f'https://www.cars24.com/buy-used-car?sort=bestmatch&serveWarrantyCount=true&gaId=1454210387.1727770785&storeCityId={i}'\n",
    "    #print(url)\n",
    "    response = requests.get(url,headers = headers)\n",
    "    soup = BeautifulSoup(response.text)\n",
    "    #for creating list make_year\n",
    "    for j in soup.find_all(\"div\",class_=\"_7jb8Q _1Ey60\"):\n",
    "        if re.findall(r'\\d{4}',j.h3.text):\n",
    "            make_year.append(''.join(re.findall(r'\\d{4}',j.h3.text)))\n",
    "        else:\n",
    "            make_year.append(np.nan)\n",
    "    #for creating list brand \n",
    "    for j in soup.find_all(\"div\",class_=\"_7jb8Q _1Ey60\"):\n",
    "        if re.findall(r'\\d{4}\\s(\\w{1,})\\s',j.h3.text):\n",
    "            brand.append(''.join(re.findall(r'\\d{4}\\s(\\w{1,})\\s',j.h3.text)))\n",
    "        else:\n",
    "            brand.append(np.nan)\n",
    "    #for creating list model\n",
    "    for j in soup.find_all(\"div\",class_=\"_7jb8Q _1Ey60\"):\n",
    "        if j.h3.text.replace(j.h3.span.text,'').replace(\"\".join(re.findall(r'\\d{4}',j.h3.text))+' ','').replace(''.join(re.findall(r'\\d{4}\\s(\\w{1,})\\s',j.h3.text))+' ',''):\n",
    "            model.append(''.join(j.h3.text.replace(j.h3.span.text,'').replace(\"\".join(re.findall(r'\\d{4}',j.h3.text))+' ','').replace(''.join(re.findall(r'\\d{4}\\s(\\w{1,})\\s',j.h3.text))+' ','')))\n",
    "        else:\n",
    "            model.append(np.nan)\n",
    "    #for creating list price\n",
    "    for j in soup.find_all(\"div\",class_=\"_7jb8Q _1Ey60\"):\n",
    "        #print(j.strong.text)\n",
    "        if j.strong.text:\n",
    "            price.append(j.strong.text)\n",
    "        else:\n",
    "            price.append(np.nan)\n",
    "    #for creating list address\n",
    "    for j in soup.find_all(\"p\",class_=\"_2rxhF\"):\n",
    "        #print(j.span.text)\n",
    "        if re.findall(r',\\s(.*)\\s',j.span.text):\n",
    "            loc.append(''.join(re.findall(r',\\s(.*)\\s',j.span.text)))\n",
    "        else:\n",
    "            loc.append(np.nan)\n",
    "    #for creating list distance\n",
    "    for j in soup.find_all(\"div\",class_=\"_7jb8Q _1Ey60\"):\n",
    "        #print(j.ul.text)\n",
    "        if re.findall(r'(\\d{1,2},?(\\d{1,3}))\\skm',j.ul.text):\n",
    "            distance.append(''.join(re.findall(r'(\\d{1,2},?(\\d{1,3}))\\skm',j.ul.text)[0][0]))\n",
    "        else:\n",
    "            distance.append(np.nan)\n",
    "    #for creating list emi\n",
    "    for j in soup.find_all(\"div\",class_=\"_7jb8Q _1Ey60\"):\n",
    "        #print(j.div.span.text)\n",
    "        if re.findall(r'₹(\\w{1,2},\\w{1,3})',j.div.span.text):\n",
    "            emi.append(''.join(re.findall(r'₹(\\w{1,2},\\w{1,3})',j.div.span.text)))\n",
    "        else:\n",
    "            emi.append(np.nan)\n",
    "    #for creating list original price\n",
    "    for j in soup.find_all(\"span\",class_=\"_3hb01\"):\n",
    "        if j.text:\n",
    "            original_price.append(''.join(j.text))\n",
    "        else:\n",
    "            original_price.append(np.nan)\n",
    "\n",
    "    for j in soup.find_all(\"div\",class_=\"_7jb8Q _1Ey60\"):\n",
    "        #print(j.ul.text)\n",
    "        if re.findall(r'(\\w)(st|nd)\\sowner',j.ul.text):\n",
    "            owner.append(''.join(re.findall(r'(\\w)(st|nd)\\sowner',j.ul.text)[0][0]))\n",
    "        else:\n",
    "            owner.append(np.nan)\n",
    "    for j in soup.find_all(\"div\",class_=\"_7jb8Q _1Ey60\"):\n",
    "        #print(j.ul.text)\n",
    "        if re.findall(r'(Petrol|Diesel|CNG)',j.ul.text):\n",
    "            fuel.append(''.join(re.findall(r'(Petrol|Diesel|CNG)',j.ul.text)[0][0]))\n",
    "        else:\n",
    "            fuel.append(np.nan)"
   ]
  },
  {
   "cell_type": "code",
   "execution_count": 56,
   "id": "010aeb90-4337-467f-b187-0cf37f784838",
   "metadata": {},
   "outputs": [
    {
     "data": {
      "text/plain": [
       "500"
      ]
     },
     "execution_count": 56,
     "metadata": {},
     "output_type": "execute_result"
    },
    {
     "data": {
      "text/plain": [
       "500"
      ]
     },
     "execution_count": 56,
     "metadata": {},
     "output_type": "execute_result"
    },
    {
     "data": {
      "text/plain": [
       "500"
      ]
     },
     "execution_count": 56,
     "metadata": {},
     "output_type": "execute_result"
    },
    {
     "data": {
      "text/plain": [
       "500"
      ]
     },
     "execution_count": 56,
     "metadata": {},
     "output_type": "execute_result"
    },
    {
     "data": {
      "text/plain": [
       "500"
      ]
     },
     "execution_count": 56,
     "metadata": {},
     "output_type": "execute_result"
    },
    {
     "data": {
      "text/plain": [
       "500"
      ]
     },
     "execution_count": 56,
     "metadata": {},
     "output_type": "execute_result"
    },
    {
     "data": {
      "text/plain": [
       "500"
      ]
     },
     "execution_count": 56,
     "metadata": {},
     "output_type": "execute_result"
    },
    {
     "data": {
      "text/plain": [
       "440"
      ]
     },
     "execution_count": 56,
     "metadata": {},
     "output_type": "execute_result"
    },
    {
     "data": {
      "text/plain": [
       "500"
      ]
     },
     "execution_count": 56,
     "metadata": {},
     "output_type": "execute_result"
    },
    {
     "data": {
      "text/plain": [
       "500"
      ]
     },
     "execution_count": 56,
     "metadata": {},
     "output_type": "execute_result"
    }
   ],
   "source": [
    "len(make_year)\n",
    "len(brand)\n",
    "len(model)\n",
    "len(price)\n",
    "len(loc)\n",
    "len(distance)\n",
    "len(emi)\n",
    "len(original_price)\n",
    "len(fuel)\n",
    "len(owner)"
   ]
  },
  {
   "cell_type": "markdown",
   "id": "5289cdb8-9769-4fa1-8586-7a5df704a43e",
   "metadata": {},
   "source": [
    "### Converting the All `Columns` into `Dataframe` "
   ]
  },
  {
   "cell_type": "code",
   "execution_count": 51,
   "id": "1ecb7238-fa55-413c-b9fa-3be306f6c597",
   "metadata": {},
   "outputs": [],
   "source": [
    "data = pd.DataFrame({\n",
    "    \"Brand\":brand,\n",
    "    \"Model\":model,\n",
    "    \"Make_Year\":make_year,\n",
    "    \"Price\":price,\n",
    "    \"Location\":loc,\n",
    "    \"Distance travelled in km\":distance,\n",
    "    \"EMI per month\":emi,\n",
    "    \"Fuel type\":fuel,\n",
    "    \"owner\":owner\n",
    "})"
   ]
  },
  {
   "cell_type": "code",
   "execution_count": 52,
   "id": "fb0dc459-e26e-4ae9-89db-b941e36dfddb",
   "metadata": {},
   "outputs": [
    {
     "data": {
      "text/html": [
       "<div>\n",
       "<style scoped>\n",
       "    .dataframe tbody tr th:only-of-type {\n",
       "        vertical-align: middle;\n",
       "    }\n",
       "\n",
       "    .dataframe tbody tr th {\n",
       "        vertical-align: top;\n",
       "    }\n",
       "\n",
       "    .dataframe thead th {\n",
       "        text-align: right;\n",
       "    }\n",
       "</style>\n",
       "<table border=\"1\" class=\"dataframe\">\n",
       "  <thead>\n",
       "    <tr style=\"text-align: right;\">\n",
       "      <th></th>\n",
       "      <th>Brand</th>\n",
       "      <th>Model</th>\n",
       "      <th>Make_Year</th>\n",
       "      <th>Price</th>\n",
       "      <th>Location</th>\n",
       "      <th>Distance travelled in km</th>\n",
       "      <th>EMI per month</th>\n",
       "      <th>Fuel type</th>\n",
       "      <th>owner</th>\n",
       "    </tr>\n",
       "  </thead>\n",
       "  <tbody>\n",
       "    <tr>\n",
       "      <th>0</th>\n",
       "      <td>Mahindra</td>\n",
       "      <td>Thar</td>\n",
       "      <td>2020</td>\n",
       "      <td>₹11.93L</td>\n",
       "      <td>Delhi</td>\n",
       "      <td>11,003</td>\n",
       "      <td>22,708</td>\n",
       "      <td>D</td>\n",
       "      <td>1</td>\n",
       "    </tr>\n",
       "    <tr>\n",
       "      <th>1</th>\n",
       "      <td>Tata</td>\n",
       "      <td>NEXON</td>\n",
       "      <td>2023</td>\n",
       "      <td>₹8.81L</td>\n",
       "      <td>Ghaziabad</td>\n",
       "      <td>10,555</td>\n",
       "      <td>16,768</td>\n",
       "      <td>P</td>\n",
       "      <td>1</td>\n",
       "    </tr>\n",
       "    <tr>\n",
       "      <th>2</th>\n",
       "      <td>Tata</td>\n",
       "      <td>Harrier</td>\n",
       "      <td>2022</td>\n",
       "      <td>₹14.41L</td>\n",
       "      <td>Golf Course Ext., Gurugram</td>\n",
       "      <td>27,990</td>\n",
       "      <td>27,428</td>\n",
       "      <td>D</td>\n",
       "      <td>1</td>\n",
       "    </tr>\n",
       "    <tr>\n",
       "      <th>3</th>\n",
       "      <td>Ford</td>\n",
       "      <td>Ecosport</td>\n",
       "      <td>2021</td>\n",
       "      <td>₹8.87L</td>\n",
       "      <td>Noida</td>\n",
       "      <td>23,480</td>\n",
       "      <td>16,883</td>\n",
       "      <td>D</td>\n",
       "      <td>1</td>\n",
       "    </tr>\n",
       "    <tr>\n",
       "      <th>4</th>\n",
       "      <td>Tata</td>\n",
       "      <td>PUNCH</td>\n",
       "      <td>2022</td>\n",
       "      <td>₹7.91L</td>\n",
       "      <td>Raj Nagar Extension, Ghaziabad</td>\n",
       "      <td>450</td>\n",
       "      <td>15,464</td>\n",
       "      <td>P</td>\n",
       "      <td>1</td>\n",
       "    </tr>\n",
       "    <tr>\n",
       "      <th>...</th>\n",
       "      <td>...</td>\n",
       "      <td>...</td>\n",
       "      <td>...</td>\n",
       "      <td>...</td>\n",
       "      <td>...</td>\n",
       "      <td>...</td>\n",
       "      <td>...</td>\n",
       "      <td>...</td>\n",
       "      <td>...</td>\n",
       "    </tr>\n",
       "    <tr>\n",
       "      <th>495</th>\n",
       "      <td>Renault</td>\n",
       "      <td>Duster</td>\n",
       "      <td>2018</td>\n",
       "      <td>₹6.27L</td>\n",
       "      <td>Agra</td>\n",
       "      <td>60,158</td>\n",
       "      <td>12,258</td>\n",
       "      <td>D</td>\n",
       "      <td>1</td>\n",
       "    </tr>\n",
       "    <tr>\n",
       "      <th>496</th>\n",
       "      <td>Hyundai</td>\n",
       "      <td>Creta</td>\n",
       "      <td>2020</td>\n",
       "      <td>₹10.43L</td>\n",
       "      <td>Agra</td>\n",
       "      <td>64,178</td>\n",
       "      <td>19,853</td>\n",
       "      <td>P</td>\n",
       "      <td>1</td>\n",
       "    </tr>\n",
       "    <tr>\n",
       "      <th>497</th>\n",
       "      <td>Hyundai</td>\n",
       "      <td>VENUE</td>\n",
       "      <td>2022</td>\n",
       "      <td>₹7.82L</td>\n",
       "      <td>Agra</td>\n",
       "      <td>11,654</td>\n",
       "      <td>15,288</td>\n",
       "      <td>P</td>\n",
       "      <td>1</td>\n",
       "    </tr>\n",
       "    <tr>\n",
       "      <th>498</th>\n",
       "      <td>Hyundai</td>\n",
       "      <td>VENUE</td>\n",
       "      <td>2019</td>\n",
       "      <td>₹8.80L</td>\n",
       "      <td>Agra</td>\n",
       "      <td>59,436</td>\n",
       "      <td>16,750</td>\n",
       "      <td>P</td>\n",
       "      <td>1</td>\n",
       "    </tr>\n",
       "    <tr>\n",
       "      <th>499</th>\n",
       "      <td>Mahindra</td>\n",
       "      <td>XUV300</td>\n",
       "      <td>2019</td>\n",
       "      <td>₹8.12L</td>\n",
       "      <td>Agra</td>\n",
       "      <td>70,913</td>\n",
       "      <td>15,456</td>\n",
       "      <td>D</td>\n",
       "      <td>1</td>\n",
       "    </tr>\n",
       "  </tbody>\n",
       "</table>\n",
       "<p>500 rows × 9 columns</p>\n",
       "</div>"
      ],
      "text/plain": [
       "        Brand      Model Make_Year    Price                        Location  \\\n",
       "0    Mahindra      Thar       2020  ₹11.93L                           Delhi   \n",
       "1        Tata     NEXON       2023   ₹8.81L                       Ghaziabad   \n",
       "2        Tata   Harrier       2022  ₹14.41L      Golf Course Ext., Gurugram   \n",
       "3        Ford  Ecosport       2021   ₹8.87L                           Noida   \n",
       "4        Tata     PUNCH       2022   ₹7.91L  Raj Nagar Extension, Ghaziabad   \n",
       "..        ...        ...       ...      ...                             ...   \n",
       "495   Renault    Duster       2018   ₹6.27L                            Agra   \n",
       "496   Hyundai     Creta       2020  ₹10.43L                            Agra   \n",
       "497   Hyundai     VENUE       2022   ₹7.82L                            Agra   \n",
       "498   Hyundai     VENUE       2019   ₹8.80L                            Agra   \n",
       "499  Mahindra    XUV300       2019   ₹8.12L                            Agra   \n",
       "\n",
       "    Distance travelled in km EMI per month Fuel type owner  \n",
       "0                     11,003        22,708         D     1  \n",
       "1                     10,555        16,768         P     1  \n",
       "2                     27,990        27,428         D     1  \n",
       "3                     23,480        16,883         D     1  \n",
       "4                        450        15,464         P     1  \n",
       "..                       ...           ...       ...   ...  \n",
       "495                   60,158        12,258         D     1  \n",
       "496                   64,178        19,853         P     1  \n",
       "497                   11,654        15,288         P     1  \n",
       "498                   59,436        16,750         P     1  \n",
       "499                   70,913        15,456         D     1  \n",
       "\n",
       "[500 rows x 9 columns]"
      ]
     },
     "execution_count": 52,
     "metadata": {},
     "output_type": "execute_result"
    }
   ],
   "source": [
    "data"
   ]
  },
  {
   "cell_type": "markdown",
   "id": "29cc2ddd-6e86-4ec0-af69-641d1a85503d",
   "metadata": {},
   "source": [
    "### Converting the `Dataframe` into `CSV` File  "
   ]
  },
  {
   "cell_type": "code",
   "execution_count": 53,
   "id": "0e8bacfc-13ec-4a58-93f0-33050e5190b3",
   "metadata": {},
   "outputs": [],
   "source": [
    "data.to_csv(r'C:\\Users\\sasi kumarS\\EDA Project\\newdata.csv')"
   ]
  },
  {
   "cell_type": "code",
   "execution_count": 54,
   "id": "dedcc952-63c6-4142-b482-5b92d2baee14",
   "metadata": {},
   "outputs": [
    {
     "data": {
      "text/plain": [
       "Brand                        0\n",
       "Model                        0\n",
       "Make_Year                    0\n",
       "Price                        0\n",
       "Location                     7\n",
       "Distance travelled in km     0\n",
       "EMI per month                0\n",
       "Fuel type                    0\n",
       "owner                       15\n",
       "dtype: int64"
      ]
     },
     "execution_count": 54,
     "metadata": {},
     "output_type": "execute_result"
    }
   ],
   "source": [
    "data.isna().sum()"
   ]
  },
  {
   "cell_type": "code",
   "execution_count": 55,
   "id": "41bd0e3e-7299-4c85-9621-df2163ca9540",
   "metadata": {},
   "outputs": [
    {
     "data": {
      "text/plain": [
       "71"
      ]
     },
     "execution_count": 55,
     "metadata": {},
     "output_type": "execute_result"
    }
   ],
   "source": [
    "data.duplicated().sum()"
   ]
  },
  {
   "cell_type": "code",
   "execution_count": 59,
   "id": "9c3cf16b-7db5-4506-948b-8d4bf55cee44",
   "metadata": {},
   "outputs": [
    {
     "data": {
      "text/plain": [
       "0      False\n",
       "1      False\n",
       "2      False\n",
       "3      False\n",
       "4      False\n",
       "       ...  \n",
       "495    False\n",
       "496    False\n",
       "497    False\n",
       "498    False\n",
       "499    False\n",
       "Name: owner, Length: 500, dtype: bool"
      ]
     },
     "execution_count": 59,
     "metadata": {},
     "output_type": "execute_result"
    }
   ],
   "source": [
    "data.owner.isna()"
   ]
  },
  {
   "cell_type": "code",
   "execution_count": null,
   "id": "cc131b72-3444-48d7-b101-ac1e5ab406ad",
   "metadata": {},
   "outputs": [],
   "source": []
  }
 ],
 "metadata": {
  "kernelspec": {
   "display_name": "Python 3 (ipykernel)",
   "language": "python",
   "name": "python3"
  },
  "language_info": {
   "codemirror_mode": {
    "name": "ipython",
    "version": 3
   },
   "file_extension": ".py",
   "mimetype": "text/x-python",
   "name": "python",
   "nbconvert_exporter": "python",
   "pygments_lexer": "ipython3",
   "version": "3.11.7"
  }
 },
 "nbformat": 4,
 "nbformat_minor": 5
}
